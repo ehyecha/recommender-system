{
  "cells": [
    {
      "cell_type": "code",
      "execution_count": 1,
      "metadata": {
        "id": "bNjH9x5i8KW1"
      },
      "outputs": [],
      "source": [
        "import pandas as pd\n",
        "import numpy as np\n",
        "from sklearn.cluster import MiniBatchKMeans\n",
        "from MatrixFactorization import MatrixFactorization\n",
        "from CollaborativeFiltering import CollaborativeFiltering as cb"
      ]
    },
    {
      "cell_type": "code",
      "execution_count": 3,
      "metadata": {
        "colab": {
          "base_uri": "https://localhost:8080/"
        },
        "id": "nFo8uikv8-1n",
        "outputId": "2356a5c0-3cda-4ed6-bd11-5bbb1459e493"
      },
      "outputs": [
        {
          "name": "stderr",
          "output_type": "stream",
          "text": [
            "/var/folders/s7/_6xph2kx7zj1t3c3tmb0gk5c0000gn/T/ipykernel_3781/2452708455.py:3: DtypeWarning: Columns (10) have mixed types. Specify dtype option on import or set low_memory=False.\n",
            "  movies_metadata = pd.read_csv('./dataset/movies_metadata.csv')\n"
          ]
        }
      ],
      "source": [
        "movie_ratings = pd.read_csv('./dataset/ratings.csv')\n",
        "movie_ratings_small = pd.read_csv('./dataset/ratings_small.csv')\n",
        "movies_metadata = pd.read_csv('./dataset/movies_metadata.csv')"
      ]
    },
    {
      "cell_type": "code",
      "execution_count": 4,
      "metadata": {
        "colab": {
          "base_uri": "https://localhost:8080/",
          "height": 206
        },
        "id": "-7_7SgYc-BFo",
        "outputId": "e90b61d9-3d32-445c-e785-f87db859c60c"
      },
      "outputs": [
        {
          "data": {
            "text/html": [
              "<div>\n",
              "<style scoped>\n",
              "    .dataframe tbody tr th:only-of-type {\n",
              "        vertical-align: middle;\n",
              "    }\n",
              "\n",
              "    .dataframe tbody tr th {\n",
              "        vertical-align: top;\n",
              "    }\n",
              "\n",
              "    .dataframe thead th {\n",
              "        text-align: right;\n",
              "    }\n",
              "</style>\n",
              "<table border=\"1\" class=\"dataframe\">\n",
              "  <thead>\n",
              "    <tr style=\"text-align: right;\">\n",
              "      <th></th>\n",
              "      <th>userId</th>\n",
              "      <th>movieId</th>\n",
              "      <th>rating</th>\n",
              "      <th>timestamp</th>\n",
              "    </tr>\n",
              "  </thead>\n",
              "  <tbody>\n",
              "    <tr>\n",
              "      <th>0</th>\n",
              "      <td>1</td>\n",
              "      <td>31</td>\n",
              "      <td>2.5</td>\n",
              "      <td>1260759144</td>\n",
              "    </tr>\n",
              "    <tr>\n",
              "      <th>1</th>\n",
              "      <td>1</td>\n",
              "      <td>1029</td>\n",
              "      <td>3.0</td>\n",
              "      <td>1260759179</td>\n",
              "    </tr>\n",
              "    <tr>\n",
              "      <th>2</th>\n",
              "      <td>1</td>\n",
              "      <td>1061</td>\n",
              "      <td>3.0</td>\n",
              "      <td>1260759182</td>\n",
              "    </tr>\n",
              "    <tr>\n",
              "      <th>3</th>\n",
              "      <td>1</td>\n",
              "      <td>1129</td>\n",
              "      <td>2.0</td>\n",
              "      <td>1260759185</td>\n",
              "    </tr>\n",
              "    <tr>\n",
              "      <th>4</th>\n",
              "      <td>1</td>\n",
              "      <td>1172</td>\n",
              "      <td>4.0</td>\n",
              "      <td>1260759205</td>\n",
              "    </tr>\n",
              "  </tbody>\n",
              "</table>\n",
              "</div>"
            ],
            "text/plain": [
              "   userId  movieId  rating   timestamp\n",
              "0       1       31     2.5  1260759144\n",
              "1       1     1029     3.0  1260759179\n",
              "2       1     1061     3.0  1260759182\n",
              "3       1     1129     2.0  1260759185\n",
              "4       1     1172     4.0  1260759205"
            ]
          },
          "execution_count": 4,
          "metadata": {},
          "output_type": "execute_result"
        }
      ],
      "source": [
        "movie_ratings_small.head()"
      ]
    },
    {
      "cell_type": "code",
      "execution_count": 5,
      "metadata": {
        "colab": {
          "base_uri": "https://localhost:8080/"
        },
        "id": "xHF2lhQK-bbi",
        "outputId": "1fdc0baa-2410-484e-cfcd-1912b75d6932"
      },
      "outputs": [
        {
          "data": {
            "text/plain": [
              "((26024289, 4), (100004, 4))"
            ]
          },
          "execution_count": 5,
          "metadata": {},
          "output_type": "execute_result"
        }
      ],
      "source": [
        "movie_ratings.shape, movie_ratings_small.shape"
      ]
    },
    {
      "cell_type": "code",
      "execution_count": 6,
      "metadata": {
        "id": "7oyCnTEc_ObX"
      },
      "outputs": [],
      "source": [
        "movies_metadata = movies_metadata.drop_duplicates(subset='id', keep='first')"
      ]
    },
    {
      "cell_type": "code",
      "execution_count": 7,
      "metadata": {
        "colab": {
          "base_uri": "https://localhost:8080/"
        },
        "id": "DDa_iHPUv2g7",
        "outputId": "f1d8495b-9354-404c-fb67-2b49a04250ab"
      },
      "outputs": [],
      "source": [
        "movies_metadata = movies_metadata[movies_metadata['id'].str.isdigit()]\n",
        "movies_metadata['id'] = movies_metadata['id'].astype('int64')"
      ]
    },
    {
      "cell_type": "code",
      "execution_count": 47,
      "metadata": {
        "id": "JE3eJ03MKnMh"
      },
      "outputs": [],
      "source": [
        "# 두 데이터프레임 병합 (movieId 기준)\n",
        "movies_total= movies_metadata.merge(movie_ratings,\n",
        "                                        left_on='id',\n",
        "                                        right_on='movieId',\n",
        "                                        how='left')\n",
        "\n",
        "# 필요 없어진 movieId 열 제거\n",
        "movies_total = movies_total.drop(columns=['movieId'])\n"
      ]
    },
    {
      "cell_type": "code",
      "execution_count": 48,
      "metadata": {
        "colab": {
          "base_uri": "https://localhost:8080/"
        },
        "id": "l1Pkabr1v2g7",
        "outputId": "e2460583-18da-44fb-e00e-511eabcd069a"
      },
      "outputs": [
        {
          "data": {
            "text/plain": [
              "(11474436, 27)"
            ]
          },
          "execution_count": 48,
          "metadata": {},
          "output_type": "execute_result"
        }
      ],
      "source": [
        "movies_total.shape"
      ]
    },
    {
      "cell_type": "code",
      "execution_count": 49,
      "metadata": {
        "id": "uIYp7_pRJG9q"
      },
      "outputs": [],
      "source": [
        "movies_total.dropna(subset='userId', inplace=True)"
      ]
    },
    {
      "cell_type": "code",
      "execution_count": 50,
      "metadata": {
        "id": "PBBRSRJfv2g8"
      },
      "outputs": [],
      "source": [
        "movies_total['userId'] = movies_total['userId'].astype('int64')"
      ]
    },
    {
      "cell_type": "code",
      "execution_count": 51,
      "metadata": {
        "colab": {
          "base_uri": "https://localhost:8080/",
          "height": 206
        },
        "id": "d3hn5Tc5v2g8",
        "outputId": "e81a1404-4566-49ff-a043-7a8bae05295f"
      },
      "outputs": [
        {
          "data": {
            "text/html": [
              "<div>\n",
              "<style scoped>\n",
              "    .dataframe tbody tr th:only-of-type {\n",
              "        vertical-align: middle;\n",
              "    }\n",
              "\n",
              "    .dataframe tbody tr th {\n",
              "        vertical-align: top;\n",
              "    }\n",
              "\n",
              "    .dataframe thead th {\n",
              "        text-align: right;\n",
              "    }\n",
              "</style>\n",
              "<table border=\"1\" class=\"dataframe\">\n",
              "  <thead>\n",
              "    <tr style=\"text-align: right;\">\n",
              "      <th></th>\n",
              "      <th>id</th>\n",
              "      <th>original_title</th>\n",
              "      <th>userId</th>\n",
              "      <th>rating</th>\n",
              "    </tr>\n",
              "  </thead>\n",
              "  <tbody>\n",
              "    <tr>\n",
              "      <th>0</th>\n",
              "      <td>862</td>\n",
              "      <td>Toy Story</td>\n",
              "      <td>1923</td>\n",
              "      <td>3.0</td>\n",
              "    </tr>\n",
              "    <tr>\n",
              "      <th>1</th>\n",
              "      <td>862</td>\n",
              "      <td>Toy Story</td>\n",
              "      <td>2103</td>\n",
              "      <td>5.0</td>\n",
              "    </tr>\n",
              "    <tr>\n",
              "      <th>2</th>\n",
              "      <td>862</td>\n",
              "      <td>Toy Story</td>\n",
              "      <td>5380</td>\n",
              "      <td>1.0</td>\n",
              "    </tr>\n",
              "    <tr>\n",
              "      <th>3</th>\n",
              "      <td>862</td>\n",
              "      <td>Toy Story</td>\n",
              "      <td>6177</td>\n",
              "      <td>4.0</td>\n",
              "    </tr>\n",
              "    <tr>\n",
              "      <th>4</th>\n",
              "      <td>862</td>\n",
              "      <td>Toy Story</td>\n",
              "      <td>6525</td>\n",
              "      <td>4.0</td>\n",
              "    </tr>\n",
              "  </tbody>\n",
              "</table>\n",
              "</div>"
            ],
            "text/plain": [
              "    id original_title  userId  rating\n",
              "0  862      Toy Story    1923     3.0\n",
              "1  862      Toy Story    2103     5.0\n",
              "2  862      Toy Story    5380     1.0\n",
              "3  862      Toy Story    6177     4.0\n",
              "4  862      Toy Story    6525     4.0"
            ]
          },
          "execution_count": 51,
          "metadata": {},
          "output_type": "execute_result"
        }
      ],
      "source": [
        "a =movies_total[['id','original_title','userId', 'rating']]\n",
        "a.head()"
      ]
    },
    {
      "cell_type": "code",
      "execution_count": 52,
      "metadata": {
        "colab": {
          "base_uri": "https://localhost:8080/",
          "height": 718
        },
        "id": "VGkWi_Ruv2g8",
        "outputId": "db78fceb-7136-4ad0-9706-5139142bc629"
      },
      "outputs": [
        {
          "data": {
            "text/html": [
              "<div>\n",
              "<style scoped>\n",
              "    .dataframe tbody tr th:only-of-type {\n",
              "        vertical-align: middle;\n",
              "    }\n",
              "\n",
              "    .dataframe tbody tr th {\n",
              "        vertical-align: top;\n",
              "    }\n",
              "\n",
              "    .dataframe thead th {\n",
              "        text-align: right;\n",
              "    }\n",
              "</style>\n",
              "<table border=\"1\" class=\"dataframe\">\n",
              "  <thead>\n",
              "    <tr style=\"text-align: right;\">\n",
              "      <th>original_title</th>\n",
              "      <th>!Women Art Revolution</th>\n",
              "      <th>$5 a Day</th>\n",
              "      <th>'Gator Bait</th>\n",
              "      <th>'R Xmas</th>\n",
              "      <th>'Twas the Night Before Christmas</th>\n",
              "      <th>(A)Sexual</th>\n",
              "      <th>...And the Pursuit of Happiness</th>\n",
              "      <th>...Più forte ragazzi!</th>\n",
              "      <th>...altrimenti ci arrabbiamo!</th>\n",
              "      <th>00 Schneider - Jagd auf Nihil Baxter</th>\n",
              "      <th>...</th>\n",
              "      <th>친절한 금자씨</th>\n",
              "      <th>태풍</th>\n",
              "      <th>파란대문</th>\n",
              "      <th>하울링</th>\n",
              "      <th>해안선</th>\n",
              "      <th>헬로우 고스트</th>\n",
              "      <th>형사 Duelist</th>\n",
              "      <th>활</th>\n",
              "      <th>회사원</th>\n",
              "      <th>２０世紀少年&lt; 第1章&gt; 終わりの始まり</th>\n",
              "    </tr>\n",
              "    <tr>\n",
              "      <th>userId</th>\n",
              "      <th></th>\n",
              "      <th></th>\n",
              "      <th></th>\n",
              "      <th></th>\n",
              "      <th></th>\n",
              "      <th></th>\n",
              "      <th></th>\n",
              "      <th></th>\n",
              "      <th></th>\n",
              "      <th></th>\n",
              "      <th></th>\n",
              "      <th></th>\n",
              "      <th></th>\n",
              "      <th></th>\n",
              "      <th></th>\n",
              "      <th></th>\n",
              "      <th></th>\n",
              "      <th></th>\n",
              "      <th></th>\n",
              "      <th></th>\n",
              "      <th></th>\n",
              "    </tr>\n",
              "  </thead>\n",
              "  <tbody>\n",
              "    <tr>\n",
              "      <th>1</th>\n",
              "      <td>0.0</td>\n",
              "      <td>0.0</td>\n",
              "      <td>0.0</td>\n",
              "      <td>0.0</td>\n",
              "      <td>0.0</td>\n",
              "      <td>0.0</td>\n",
              "      <td>0.0</td>\n",
              "      <td>0.0</td>\n",
              "      <td>0.0</td>\n",
              "      <td>0.0</td>\n",
              "      <td>...</td>\n",
              "      <td>0.0</td>\n",
              "      <td>0.0</td>\n",
              "      <td>0.0</td>\n",
              "      <td>0.0</td>\n",
              "      <td>0.0</td>\n",
              "      <td>0.0</td>\n",
              "      <td>0.0</td>\n",
              "      <td>0.0</td>\n",
              "      <td>0.0</td>\n",
              "      <td>0.0</td>\n",
              "    </tr>\n",
              "    <tr>\n",
              "      <th>2</th>\n",
              "      <td>0.0</td>\n",
              "      <td>0.0</td>\n",
              "      <td>0.0</td>\n",
              "      <td>0.0</td>\n",
              "      <td>0.0</td>\n",
              "      <td>0.0</td>\n",
              "      <td>0.0</td>\n",
              "      <td>0.0</td>\n",
              "      <td>0.0</td>\n",
              "      <td>0.0</td>\n",
              "      <td>...</td>\n",
              "      <td>0.0</td>\n",
              "      <td>0.0</td>\n",
              "      <td>0.0</td>\n",
              "      <td>0.0</td>\n",
              "      <td>0.0</td>\n",
              "      <td>0.0</td>\n",
              "      <td>0.0</td>\n",
              "      <td>0.0</td>\n",
              "      <td>0.0</td>\n",
              "      <td>0.0</td>\n",
              "    </tr>\n",
              "    <tr>\n",
              "      <th>3</th>\n",
              "      <td>0.0</td>\n",
              "      <td>0.0</td>\n",
              "      <td>0.0</td>\n",
              "      <td>0.0</td>\n",
              "      <td>0.0</td>\n",
              "      <td>0.0</td>\n",
              "      <td>0.0</td>\n",
              "      <td>0.0</td>\n",
              "      <td>0.0</td>\n",
              "      <td>0.0</td>\n",
              "      <td>...</td>\n",
              "      <td>0.0</td>\n",
              "      <td>0.0</td>\n",
              "      <td>0.0</td>\n",
              "      <td>0.0</td>\n",
              "      <td>0.0</td>\n",
              "      <td>0.0</td>\n",
              "      <td>0.0</td>\n",
              "      <td>0.0</td>\n",
              "      <td>0.0</td>\n",
              "      <td>0.0</td>\n",
              "    </tr>\n",
              "    <tr>\n",
              "      <th>4</th>\n",
              "      <td>0.0</td>\n",
              "      <td>0.0</td>\n",
              "      <td>0.0</td>\n",
              "      <td>0.0</td>\n",
              "      <td>0.0</td>\n",
              "      <td>0.0</td>\n",
              "      <td>0.0</td>\n",
              "      <td>0.0</td>\n",
              "      <td>0.0</td>\n",
              "      <td>0.0</td>\n",
              "      <td>...</td>\n",
              "      <td>0.0</td>\n",
              "      <td>0.0</td>\n",
              "      <td>0.0</td>\n",
              "      <td>0.0</td>\n",
              "      <td>0.0</td>\n",
              "      <td>0.0</td>\n",
              "      <td>0.0</td>\n",
              "      <td>0.0</td>\n",
              "      <td>0.0</td>\n",
              "      <td>0.0</td>\n",
              "    </tr>\n",
              "    <tr>\n",
              "      <th>5</th>\n",
              "      <td>0.0</td>\n",
              "      <td>0.0</td>\n",
              "      <td>0.0</td>\n",
              "      <td>0.0</td>\n",
              "      <td>0.0</td>\n",
              "      <td>0.0</td>\n",
              "      <td>0.0</td>\n",
              "      <td>0.0</td>\n",
              "      <td>0.0</td>\n",
              "      <td>0.0</td>\n",
              "      <td>...</td>\n",
              "      <td>0.0</td>\n",
              "      <td>0.0</td>\n",
              "      <td>0.0</td>\n",
              "      <td>0.0</td>\n",
              "      <td>0.0</td>\n",
              "      <td>0.0</td>\n",
              "      <td>0.0</td>\n",
              "      <td>0.0</td>\n",
              "      <td>0.0</td>\n",
              "      <td>0.0</td>\n",
              "    </tr>\n",
              "    <tr>\n",
              "      <th>...</th>\n",
              "      <td>...</td>\n",
              "      <td>...</td>\n",
              "      <td>...</td>\n",
              "      <td>...</td>\n",
              "      <td>...</td>\n",
              "      <td>...</td>\n",
              "      <td>...</td>\n",
              "      <td>...</td>\n",
              "      <td>...</td>\n",
              "      <td>...</td>\n",
              "      <td>...</td>\n",
              "      <td>...</td>\n",
              "      <td>...</td>\n",
              "      <td>...</td>\n",
              "      <td>...</td>\n",
              "      <td>...</td>\n",
              "      <td>...</td>\n",
              "      <td>...</td>\n",
              "      <td>...</td>\n",
              "      <td>...</td>\n",
              "      <td>...</td>\n",
              "    </tr>\n",
              "    <tr>\n",
              "      <th>270892</th>\n",
              "      <td>0.0</td>\n",
              "      <td>0.0</td>\n",
              "      <td>0.0</td>\n",
              "      <td>0.0</td>\n",
              "      <td>0.0</td>\n",
              "      <td>0.0</td>\n",
              "      <td>0.0</td>\n",
              "      <td>3.5</td>\n",
              "      <td>0.0</td>\n",
              "      <td>0.0</td>\n",
              "      <td>...</td>\n",
              "      <td>0.0</td>\n",
              "      <td>0.0</td>\n",
              "      <td>0.0</td>\n",
              "      <td>0.0</td>\n",
              "      <td>0.0</td>\n",
              "      <td>0.0</td>\n",
              "      <td>0.0</td>\n",
              "      <td>0.0</td>\n",
              "      <td>0.0</td>\n",
              "      <td>0.0</td>\n",
              "    </tr>\n",
              "    <tr>\n",
              "      <th>270893</th>\n",
              "      <td>0.0</td>\n",
              "      <td>0.0</td>\n",
              "      <td>0.0</td>\n",
              "      <td>0.0</td>\n",
              "      <td>0.0</td>\n",
              "      <td>0.0</td>\n",
              "      <td>0.0</td>\n",
              "      <td>0.0</td>\n",
              "      <td>0.0</td>\n",
              "      <td>0.0</td>\n",
              "      <td>...</td>\n",
              "      <td>0.0</td>\n",
              "      <td>0.0</td>\n",
              "      <td>0.0</td>\n",
              "      <td>0.0</td>\n",
              "      <td>0.0</td>\n",
              "      <td>0.0</td>\n",
              "      <td>0.0</td>\n",
              "      <td>0.0</td>\n",
              "      <td>0.0</td>\n",
              "      <td>0.0</td>\n",
              "    </tr>\n",
              "    <tr>\n",
              "      <th>270894</th>\n",
              "      <td>0.0</td>\n",
              "      <td>0.0</td>\n",
              "      <td>0.0</td>\n",
              "      <td>0.0</td>\n",
              "      <td>0.0</td>\n",
              "      <td>0.0</td>\n",
              "      <td>0.0</td>\n",
              "      <td>0.0</td>\n",
              "      <td>0.0</td>\n",
              "      <td>0.0</td>\n",
              "      <td>...</td>\n",
              "      <td>0.0</td>\n",
              "      <td>0.0</td>\n",
              "      <td>0.0</td>\n",
              "      <td>0.0</td>\n",
              "      <td>0.0</td>\n",
              "      <td>0.0</td>\n",
              "      <td>0.0</td>\n",
              "      <td>0.0</td>\n",
              "      <td>0.0</td>\n",
              "      <td>0.0</td>\n",
              "    </tr>\n",
              "    <tr>\n",
              "      <th>270895</th>\n",
              "      <td>0.0</td>\n",
              "      <td>0.0</td>\n",
              "      <td>0.0</td>\n",
              "      <td>0.0</td>\n",
              "      <td>0.0</td>\n",
              "      <td>0.0</td>\n",
              "      <td>0.0</td>\n",
              "      <td>0.0</td>\n",
              "      <td>0.0</td>\n",
              "      <td>0.0</td>\n",
              "      <td>...</td>\n",
              "      <td>0.0</td>\n",
              "      <td>0.0</td>\n",
              "      <td>0.0</td>\n",
              "      <td>0.0</td>\n",
              "      <td>0.0</td>\n",
              "      <td>0.0</td>\n",
              "      <td>0.0</td>\n",
              "      <td>0.0</td>\n",
              "      <td>0.0</td>\n",
              "      <td>0.0</td>\n",
              "    </tr>\n",
              "    <tr>\n",
              "      <th>270896</th>\n",
              "      <td>0.0</td>\n",
              "      <td>0.0</td>\n",
              "      <td>0.0</td>\n",
              "      <td>0.0</td>\n",
              "      <td>0.0</td>\n",
              "      <td>0.0</td>\n",
              "      <td>0.0</td>\n",
              "      <td>4.0</td>\n",
              "      <td>0.0</td>\n",
              "      <td>0.0</td>\n",
              "      <td>...</td>\n",
              "      <td>0.0</td>\n",
              "      <td>0.0</td>\n",
              "      <td>0.0</td>\n",
              "      <td>0.0</td>\n",
              "      <td>0.0</td>\n",
              "      <td>0.0</td>\n",
              "      <td>0.0</td>\n",
              "      <td>0.0</td>\n",
              "      <td>0.0</td>\n",
              "      <td>0.0</td>\n",
              "    </tr>\n",
              "  </tbody>\n",
              "</table>\n",
              "<p>265917 rows × 7462 columns</p>\n",
              "</div>"
            ],
            "text/plain": [
              "original_title  !Women Art Revolution  $5 a Day  'Gator Bait  'R Xmas  \\\n",
              "userId                                                                  \n",
              "1                                 0.0       0.0          0.0      0.0   \n",
              "2                                 0.0       0.0          0.0      0.0   \n",
              "3                                 0.0       0.0          0.0      0.0   \n",
              "4                                 0.0       0.0          0.0      0.0   \n",
              "5                                 0.0       0.0          0.0      0.0   \n",
              "...                               ...       ...          ...      ...   \n",
              "270892                            0.0       0.0          0.0      0.0   \n",
              "270893                            0.0       0.0          0.0      0.0   \n",
              "270894                            0.0       0.0          0.0      0.0   \n",
              "270895                            0.0       0.0          0.0      0.0   \n",
              "270896                            0.0       0.0          0.0      0.0   \n",
              "\n",
              "original_title  'Twas the Night Before Christmas  (A)Sexual  \\\n",
              "userId                                                        \n",
              "1                                            0.0        0.0   \n",
              "2                                            0.0        0.0   \n",
              "3                                            0.0        0.0   \n",
              "4                                            0.0        0.0   \n",
              "5                                            0.0        0.0   \n",
              "...                                          ...        ...   \n",
              "270892                                       0.0        0.0   \n",
              "270893                                       0.0        0.0   \n",
              "270894                                       0.0        0.0   \n",
              "270895                                       0.0        0.0   \n",
              "270896                                       0.0        0.0   \n",
              "\n",
              "original_title  ...And the Pursuit of Happiness  ...Più forte ragazzi!  \\\n",
              "userId                                                                   \n",
              "1                                           0.0                    0.0   \n",
              "2                                           0.0                    0.0   \n",
              "3                                           0.0                    0.0   \n",
              "4                                           0.0                    0.0   \n",
              "5                                           0.0                    0.0   \n",
              "...                                         ...                    ...   \n",
              "270892                                      0.0                    3.5   \n",
              "270893                                      0.0                    0.0   \n",
              "270894                                      0.0                    0.0   \n",
              "270895                                      0.0                    0.0   \n",
              "270896                                      0.0                    4.0   \n",
              "\n",
              "original_title  ...altrimenti ci arrabbiamo!  \\\n",
              "userId                                         \n",
              "1                                        0.0   \n",
              "2                                        0.0   \n",
              "3                                        0.0   \n",
              "4                                        0.0   \n",
              "5                                        0.0   \n",
              "...                                      ...   \n",
              "270892                                   0.0   \n",
              "270893                                   0.0   \n",
              "270894                                   0.0   \n",
              "270895                                   0.0   \n",
              "270896                                   0.0   \n",
              "\n",
              "original_title  00 Schneider - Jagd auf Nihil Baxter  ...  친절한 금자씨   태풍  파란대문  \\\n",
              "userId                                                ...                       \n",
              "1                                                0.0  ...      0.0  0.0   0.0   \n",
              "2                                                0.0  ...      0.0  0.0   0.0   \n",
              "3                                                0.0  ...      0.0  0.0   0.0   \n",
              "4                                                0.0  ...      0.0  0.0   0.0   \n",
              "5                                                0.0  ...      0.0  0.0   0.0   \n",
              "...                                              ...  ...      ...  ...   ...   \n",
              "270892                                           0.0  ...      0.0  0.0   0.0   \n",
              "270893                                           0.0  ...      0.0  0.0   0.0   \n",
              "270894                                           0.0  ...      0.0  0.0   0.0   \n",
              "270895                                           0.0  ...      0.0  0.0   0.0   \n",
              "270896                                           0.0  ...      0.0  0.0   0.0   \n",
              "\n",
              "original_title  하울링  해안선  헬로우 고스트  형사 Duelist    활  회사원  ２０世紀少年< 第1章> 終わりの始まり  \n",
              "userId                                                                         \n",
              "1               0.0  0.0      0.0         0.0  0.0  0.0                   0.0  \n",
              "2               0.0  0.0      0.0         0.0  0.0  0.0                   0.0  \n",
              "3               0.0  0.0      0.0         0.0  0.0  0.0                   0.0  \n",
              "4               0.0  0.0      0.0         0.0  0.0  0.0                   0.0  \n",
              "5               0.0  0.0      0.0         0.0  0.0  0.0                   0.0  \n",
              "...             ...  ...      ...         ...  ...  ...                   ...  \n",
              "270892          0.0  0.0      0.0         0.0  0.0  0.0                   0.0  \n",
              "270893          0.0  0.0      0.0         0.0  0.0  0.0                   0.0  \n",
              "270894          0.0  0.0      0.0         0.0  0.0  0.0                   0.0  \n",
              "270895          0.0  0.0      0.0         0.0  0.0  0.0                   0.0  \n",
              "270896          0.0  0.0      0.0         0.0  0.0  0.0                   0.0  \n",
              "\n",
              "[265917 rows x 7462 columns]"
            ]
          },
          "execution_count": 52,
          "metadata": {},
          "output_type": "execute_result"
        }
      ],
      "source": [
        "user_matrix = pd.pivot_table(a, index=\"userId\", columns='original_title',values='rating',aggfunc=\"mean\", fill_value=0)\n",
        "user_matrix"
      ]
    },
    {
      "cell_type": "code",
      "execution_count": 53,
      "metadata": {},
      "outputs": [
        {
          "name": "stdout",
          "output_type": "stream",
          "text": [
            "k=10 → Precision@10: 0.4556, Recall@10: 0.2222\n",
            "k=20 → Precision@10: 0.5228, Recall@10: 0.2713\n"
          ]
        }
      ],
      "source": [
        "import numpy as np\n",
        "from sklearn.decomposition import TruncatedSVD\n",
        "from scipy.sparse import csr_matrix\n",
        "\n",
        "# 추천 결과 평가 함수\n",
        "def precision_recall_at_k(usermatrix, k, top_n=10):\n",
        "    usermatrix_sparse = csr_matrix(usermatrix)  # 희소 행렬 변환\n",
        "    svd = TruncatedSVD(n_components=k)  # k 차원으로 축소\n",
        "    user_factors = svd.fit_transform(usermatrix_sparse)\n",
        "    item_factors = svd.components_  # 아이템 특성 벡터\n",
        "    \n",
        "    # # 예측된 평점 행렬 (유저 x 아이템)\n",
        "    predictions = np.dot(user_factors, item_factors)\n",
        "    \n",
        "    # Precision@K 및 Recall@K 계산\n",
        "    precision_scores, recall_scores = [], []\n",
        "    \n",
        "    for user_idx in range(usermatrix.shape[0]):  \n",
        "        #true_items = set(np.where(usermatrix[user_idx] > 0)[0])  \n",
        "        true_items = set(np.where(user_matrix.iloc[user_idx] > 0)[0]) # 실제 선호한 아이템\n",
        "        if len(true_items) == 0: continue  # 실제 데이터가 없는 경우 제외\n",
        "        \n",
        "        pred_items = np.argsort(-predictions[user_idx])[:top_n]  # 예측된 상위 N개 아이템\n",
        "        hit_items = true_items.intersection(set(pred_items))\n",
        "        \n",
        "        precision = len(hit_items) / top_n\n",
        "        recall = len(hit_items) / len(true_items)\n",
        "        \n",
        "        precision_scores.append(precision)\n",
        "        recall_scores.append(recall)\n",
        "\n",
        "    return np.mean(precision_scores), np.mean(recall_scores)\n",
        "\n",
        "# k 값 조절하면서 Precision@K & Recall@K 계산\n",
        "k_values = [10, 20]\n",
        "precision_results, recall_results = [], []\n",
        "\n",
        "for k in k_values:\n",
        "    precision, recall = precision_recall_at_k(user_matrix, k)\n",
        "    precision_results.append(precision)\n",
        "    recall_results.append(recall)\n",
        "    print(f\"k={k} → Precision@10: {precision:.4f}, Recall@10: {recall:.4f}\")"
      ]
    },
    {
      "cell_type": "code",
      "execution_count": 43,
      "metadata": {},
      "outputs": [
        {
          "data": {
            "text/plain": [
              "{144, 885, 1065, 1508, 1759, 2564}"
            ]
          },
          "execution_count": 43,
          "metadata": {},
          "output_type": "execute_result"
        }
      ],
      "source": [
        "user_idx = 0\n",
        "user = set(np.where(user_matrix.iloc[user_idx] > 0)[0])\n",
        "user"
      ]
    },
    {
      "cell_type": "code",
      "execution_count": 42,
      "metadata": {},
      "outputs": [
        {
          "name": "stderr",
          "output_type": "stream",
          "text": [
            "/Users/chahyeon-yeong/miniconda3/lib/python3.12/site-packages/IPython/core/pylabtools.py:170: UserWarning: Glyph 53364 (\\N{HANGUL SYLLABLE KEUL}) missing from font(s) DejaVu Sans.\n",
            "  fig.canvas.print_figure(bytes_io, **kw)\n",
            "/Users/chahyeon-yeong/miniconda3/lib/python3.12/site-packages/IPython/core/pylabtools.py:170: UserWarning: Glyph 47084 (\\N{HANGUL SYLLABLE REO}) missing from font(s) DejaVu Sans.\n",
            "  fig.canvas.print_figure(bytes_io, **kw)\n",
            "/Users/chahyeon-yeong/miniconda3/lib/python3.12/site-packages/IPython/core/pylabtools.py:170: UserWarning: Glyph 49828 (\\N{HANGUL SYLLABLE SEU}) missing from font(s) DejaVu Sans.\n",
            "  fig.canvas.print_figure(bytes_io, **kw)\n",
            "/Users/chahyeon-yeong/miniconda3/lib/python3.12/site-packages/IPython/core/pylabtools.py:170: UserWarning: Glyph 53552 (\\N{HANGUL SYLLABLE TEO}) missing from font(s) DejaVu Sans.\n",
            "  fig.canvas.print_figure(bytes_io, **kw)\n",
            "/Users/chahyeon-yeong/miniconda3/lib/python3.12/site-packages/IPython/core/pylabtools.py:170: UserWarning: Glyph 44060 (\\N{HANGUL SYLLABLE GAE}) missing from font(s) DejaVu Sans.\n",
            "  fig.canvas.print_figure(bytes_io, **kw)\n",
            "/Users/chahyeon-yeong/miniconda3/lib/python3.12/site-packages/IPython/core/pylabtools.py:170: UserWarning: Glyph 49688 (\\N{HANGUL SYLLABLE SU}) missing from font(s) DejaVu Sans.\n",
            "  fig.canvas.print_figure(bytes_io, **kw)\n"
          ]
        },
        {
          "data": {
            "image/png": "[encoded data removed]",
            "text/plain": [
              "<Figure size 640x480 with 1 Axes>"
            ]
          },
          "metadata": {},
          "output_type": "display_data"
        }
      ],
      "source": [
        "#kmeans를 사용하여 사용자-아이템 메트릭스를 클러스터링을 먼저 시행한다.\n",
        "from sklearn.cluster import KMeans\n",
        "import matplotlib.pyplot as plt\n",
        "from sklearn.decomposition import PCA\n",
        "from sklearn.cluster import MiniBatchKMeans\n",
        "\n",
        "# 예제 데이터 (사용자-아이템 행렬)\n",
        "pca = PCA(n_components=235)\n",
        "X_reduced = pca.fit_transform(user_matrix.T)\n",
        "\n",
        "wcss = []\n",
        "for k in range(1, 11):  # k를 1부터 10까지 테스트\n",
        "    kmeans = MiniBatchKMeans(n_clusters=k, random_state=42, batch_size=500)\n",
        "    kmeans.fit(X_reduced)\n",
        "    wcss.append(kmeans.inertia_)  # inertia_ = WCSS 값\n",
        "\n",
        "# 그래프 그리기\n",
        "plt.plot(range(1, 11), wcss, marker='o')\n",
        "plt.xlabel('클러스터 개수 k')\n",
        "plt.ylabel('WCSS')\n",
        "plt.title('Elbow Method for Optimal k')\n",
        "plt.show()"
      ]
    },
    {
      "cell_type": "code",
      "execution_count": 43,
      "metadata": {},
      "outputs": [
        {
          "data": {
            "text/plain": [
              "Text(0, 0.5, 'Silhouette Score')"
            ]
          },
          "execution_count": 43,
          "metadata": {},
          "output_type": "execute_result"
        },
        {
          "name": "stderr",
          "output_type": "stream",
          "text": [
            "/Users/chahyeon-yeong/miniconda3/lib/python3.12/site-packages/IPython/core/events.py:82: UserWarning: Glyph 53364 (\\N{HANGUL SYLLABLE KEUL}) missing from font(s) DejaVu Sans.\n",
            "  func(*args, **kwargs)\n",
            "/Users/chahyeon-yeong/miniconda3/lib/python3.12/site-packages/IPython/core/events.py:82: UserWarning: Glyph 47084 (\\N{HANGUL SYLLABLE REO}) missing from font(s) DejaVu Sans.\n",
            "  func(*args, **kwargs)\n",
            "/Users/chahyeon-yeong/miniconda3/lib/python3.12/site-packages/IPython/core/events.py:82: UserWarning: Glyph 49828 (\\N{HANGUL SYLLABLE SEU}) missing from font(s) DejaVu Sans.\n",
            "  func(*args, **kwargs)\n",
            "/Users/chahyeon-yeong/miniconda3/lib/python3.12/site-packages/IPython/core/events.py:82: UserWarning: Glyph 53552 (\\N{HANGUL SYLLABLE TEO}) missing from font(s) DejaVu Sans.\n",
            "  func(*args, **kwargs)\n",
            "/Users/chahyeon-yeong/miniconda3/lib/python3.12/site-packages/IPython/core/events.py:82: UserWarning: Glyph 44060 (\\N{HANGUL SYLLABLE GAE}) missing from font(s) DejaVu Sans.\n",
            "  func(*args, **kwargs)\n",
            "/Users/chahyeon-yeong/miniconda3/lib/python3.12/site-packages/IPython/core/events.py:82: UserWarning: Glyph 49688 (\\N{HANGUL SYLLABLE SU}) missing from font(s) DejaVu Sans.\n",
            "  func(*args, **kwargs)\n",
            "/Users/chahyeon-yeong/miniconda3/lib/python3.12/site-packages/IPython/core/pylabtools.py:170: UserWarning: Glyph 53364 (\\N{HANGUL SYLLABLE KEUL}) missing from font(s) DejaVu Sans.\n",
            "  fig.canvas.print_figure(bytes_io, **kw)\n",
            "/Users/chahyeon-yeong/miniconda3/lib/python3.12/site-packages/IPython/core/pylabtools.py:170: UserWarning: Glyph 47084 (\\N{HANGUL SYLLABLE REO}) missing from font(s) DejaVu Sans.\n",
            "  fig.canvas.print_figure(bytes_io, **kw)\n",
            "/Users/chahyeon-yeong/miniconda3/lib/python3.12/site-packages/IPython/core/pylabtools.py:170: UserWarning: Glyph 49828 (\\N{HANGUL SYLLABLE SEU}) missing from font(s) DejaVu Sans.\n",
            "  fig.canvas.print_figure(bytes_io, **kw)\n",
            "/Users/chahyeon-yeong/miniconda3/lib/python3.12/site-packages/IPython/core/pylabtools.py:170: UserWarning: Glyph 53552 (\\N{HANGUL SYLLABLE TEO}) missing from font(s) DejaVu Sans.\n",
            "  fig.canvas.print_figure(bytes_io, **kw)\n",
            "/Users/chahyeon-yeong/miniconda3/lib/python3.12/site-packages/IPython/core/pylabtools.py:170: UserWarning: Glyph 44060 (\\N{HANGUL SYLLABLE GAE}) missing from font(s) DejaVu Sans.\n",
            "  fig.canvas.print_figure(bytes_io, **kw)\n",
            "/Users/chahyeon-yeong/miniconda3/lib/python3.12/site-packages/IPython/core/pylabtools.py:170: UserWarning: Glyph 49688 (\\N{HANGUL SYLLABLE SU}) missing from font(s) DejaVu Sans.\n",
            "  fig.canvas.print_figure(bytes_io, **kw)\n"
          ]
        },
        {
          "data": {
            "image/png": "[encoded data removed]",
            "text/plain": [
              "<Figure size 640x480 with 1 Axes>"
            ]
          },
          "metadata": {},
          "output_type": "display_data"
        }
      ],
      "source": [
        "from sklearn.metrics import silhouette_score\n",
        "\n",
        "silhouette_scores = []\n",
        "pca = PCA(n_components=235)\n",
        "X_reduced = pca.fit_transform(user_matrix)\n",
        "silhouette_scores = []\n",
        "# Silhouette Score 계산을 위한 샘플링 비율 설정 (예: 10% 샘플링)\n",
        "sample_ratio =1\n",
        "X_sampled = X_reduced[np.random.choice(X_reduced.shape[0], int(X_reduced.shape[0] * sample_ratio), replace=False)]\n",
        "for k in range(2, 11):  # k=1은 의미 없으므로 2부터 시작\n",
        "    kmeans = MiniBatchKMeans(n_clusters=k, random_state=42, batch_size=200, n_init=1)\n",
        "    cluster_labels = kmeans.fit_predict(X_sampled)\n",
        "    score = silhouette_score(X_sampled, cluster_labels)\n",
        "    silhouette_scores.append(score)\n",
        "\n",
        "# 그래프 그리기\n",
        "plt.plot(range(2, 11), silhouette_scores, marker='o')\n",
        "plt.xlabel('클러스터 개수 k')\n",
        "plt.ylabel('Silhouette Score')"
      ]
    },
    {
      "cell_type": "code",
      "execution_count": 44,
      "metadata": {},
      "outputs": [
        {
          "data": {
            "text/plain": [
              "[0.38540981687572573,\n",
              " 0.23295668744956935,\n",
              " -0.04355261140441286,\n",
              " 0.030104038053841306,\n",
              " 0.06525846876453166,\n",
              " 0.07279595616325381,\n",
              " -0.1490513431001018,\n",
              " -0.020599095898045074,\n",
              " -0.04948533382863566]"
            ]
          },
          "execution_count": 44,
          "metadata": {},
          "output_type": "execute_result"
        }
      ],
      "source": [
        "silhouette_scores"
      ]
    },
    {
      "cell_type": "code",
      "execution_count": 15,
      "metadata": {},
      "outputs": [
        {
          "data": {
            "image/png": "[encoded data removed]",
            "text/plain": [
              "<Figure size 640x480 with 1 Axes>"
            ]
          },
          "metadata": {},
          "output_type": "display_data"
        },
        {
          "name": "stdout",
          "output_type": "stream",
          "text": [
            "90% 이상 설명하는 최소 차원 개수: 235\n"
          ]
        }
      ],
      "source": [
        "import numpy as np\n",
        "import matplotlib.pyplot as plt\n",
        "from sklearn.decomposition import PCA\n",
        "\n",
        "# PCA 적용\n",
        "pca = PCA()\n",
        "X_reduced = pca.fit_transform(user_matrix.T)\n",
        "\n",
        "# 누적 설명 분산 비율 계산\n",
        "explained_variance = np.cumsum(pca.explained_variance_ratio_)\n",
        "\n",
        "# 그래프 그리기\n",
        "plt.plot(range(1, len(explained_variance) + 1), explained_variance, marker='o', linestyle='--')\n",
        "plt.xlabel('Number of Components')\n",
        "plt.ylabel('Cumulative Explained Variance')\n",
        "plt.title('PCA Explained Variance')\n",
        "plt.axhline(y=0.9, color='r', linestyle='-')  # 90% 선\n",
        "plt.show()\n",
        "\n",
        "# 90% 이상의 분산을 설명하는 최소 차원 개수 찾기\n",
        "optimal_components = np.argmax(explained_variance >= 0.9) + 1\n",
        "print(f\"90% 이상 설명하는 최소 차원 개수: {optimal_components}\")\n"
      ]
    },
    {
      "cell_type": "code",
      "execution_count": 13,
      "metadata": {
        "colab": {
          "base_uri": "https://localhost:8080/"
        },
        "id": "cqf9cZlKOAe_",
        "outputId": "8dde00e2-82ce-4a14-ecc3-979b7035ae7a"
      },
      "outputs": [
        {
          "name": "stdout",
          "output_type": "stream",
          "text": [
            "'장화, 홍련'은(는) 1번 군집에 속합니다.\n"
          ]
        }
      ],
      "source": [
        "k = 2\n",
        "kmeans = MiniBatchKMeans(n_clusters=k, random_state=42, batch_size=500)\n",
        "item_clusters = kmeans.fit_predict(user_matrix.T)\n",
        "unique_clusters = np.unique(item_clusters)\n",
        "item_id = '장화, 홍련'\n",
        "item_cluster_map = pd.Series(item_clusters, index=user_matrix.T.index)\n",
        "\n",
        "# 특정 item_id의 군집 찾기\n",
        "cluster_id = item_cluster_map.loc[item_id]\n",
        "print(f\"'{item_id}'은(는) {cluster_id}번 군집에 속합니다.\")\n",
        "\n",
        "# top_k = 10\n",
        "\n",
        "cluster_indices = np.where(item_clusters == cluster_id)[0]  # 해당 클러스터 사용자 인덱스\n",
        "cluster_matrix = user_matrix.T.iloc[cluster_indices]\n"
      ]
    },
    {
      "cell_type": "code",
      "execution_count": 14,
      "metadata": {
        "colab": {
          "base_uri": "https://localhost:8080/"
        },
        "id": "v28rP--wITWK",
        "outputId": "f1e790f2-6fc1-43a1-c500-6cf617caa62c"
      },
      "outputs": [
        {
          "data": {
            "text/plain": [
              "(2616, 671)"
            ]
          },
          "execution_count": 14,
          "metadata": {},
          "output_type": "execute_result"
        }
      ],
      "source": [
        "cluster_matrix.shape"
      ]
    },
    {
      "cell_type": "code",
      "execution_count": 21,
      "metadata": {
        "collapsed": true,
        "id": "EfF5-AnaITWL"
      },
      "outputs": [
        {
          "name": "stdout",
          "output_type": "stream",
          "text": [
            "k=50, Precision: 0.4425\n",
            "k=100, Precision: 0.4887\n",
            "k=150, Precision: 0.5043\n",
            "k=200, Precision: 0.5127\n"
          ]
        }
      ],
      "source": [
        "mf = MatrixFactorization(cluster_matrix)\n",
        "k_values = [50, 100,150,200]  # 실험할 k 값 리스트\n",
        "for k in k_values:\n",
        "    actual_items, predicted_items = mf.predict(k, 10, False)\n",
        "    precision = mf.precision_at_k(actual_items, predicted_items)\n",
        "    print(f\"k={k}, Precision: {precision:.4f}\")"
      ]
    },
    {
      "cell_type": "code",
      "execution_count": 22,
      "metadata": {
        "id": "Aw_6if0zITWL"
      },
      "outputs": [
        {
          "name": "stdout",
          "output_type": "stream",
          "text": [
            "k=300, Precision: 0.5177\n",
            "k=400, Precision: 0.5188\n",
            "k=500, Precision: 0.5189\n"
          ]
        }
      ],
      "source": [
        "mf = MatrixFactorization(cluster_matrix)\n",
        "k_values = [300, 400, 500]  # 실험할 k 값 리스트\n",
        "for k in k_values:\n",
        "    actual_items, predicted_items = mf.predict(k, 10, False)\n",
        "    precision = mf.precision_at_k(actual_items, predicted_items)\n",
        "    print(f\"k={k}, Precision: {precision:.4f}\")"
      ]
    },
    {
      "cell_type": "code",
      "execution_count": null,
      "metadata": {
        "id": "sg1gqUL2ITWL",
        "outputId": "6974ecd7-581d-46b2-e302-2a7baf57fd18"
      },
      "outputs": [
        {
          "name": "stdout",
          "output_type": "stream",
          "text": [
            "k=100, Recall: 0.8054\n",
            "k=200, Recall: 0.8491\n",
            "k=300, Recall: 0.8579\n",
            "k=400, Recall: 0.8599\n",
            "k=500, Recall: 0.8605\n"
          ]
        }
      ],
      "source": [
        "k_values = [100, 200, 300, 400,500]  # 실험할 k 값 리스트\n",
        "for k in k_values:\n",
        "    actual_items, predicted_items = mf.predict(k, 10, False)\n",
        "    recall = mf.recall_at_k(actual_items, predicted_items)\n",
        "    print(f\"k={k}, Recall: {recall:.4f}\")"
      ]
    },
    {
      "cell_type": "code",
      "execution_count": 15,
      "metadata": {
        "id": "_fVINoZPITWL"
      },
      "outputs": [],
      "source": [
        "optimal_k = 100\n",
        "cb_2 = cb(cluster_matrix, optimal_k)\n",
        "item_title = \"장화, 홍련\"\n",
        "idx = cluster_matrix.index.get_loc(item_title)\n",
        "similarities = cb_2.adjusted_cosine_similarity()"
      ]
    },
    {
      "cell_type": "code",
      "execution_count": 16,
      "metadata": {
        "colab": {
          "base_uri": "https://localhost:8080/"
        },
        "collapsed": true,
        "id": "Bbpt9DhOITWL",
        "outputId": "c685b12c-d3f2-4862-bef0-5308f64306de"
      },
      "outputs": [
        {
          "data": {
            "text/plain": [
              "<Compressed Sparse Row sparse matrix of dtype 'float64'\n",
              "\twith 6843456 stored elements and shape (2616, 2616)>"
            ]
          },
          "execution_count": 16,
          "metadata": {},
          "output_type": "execute_result"
        }
      ],
      "source": [
        "similarities"
      ]
    },
    {
      "cell_type": "code",
      "execution_count": 17,
      "metadata": {
        "colab": {
          "base_uri": "https://localhost:8080/"
        },
        "id": "WzzY7HFqITWL",
        "outputId": "1c9be85b-727e-44d3-a07e-12f8a7ea8d8e"
      },
      "outputs": [
        {
          "name": "stdout",
          "output_type": "stream",
          "text": [
            "사용자 1가 '장화, 홍련'에 부여할 예측 평점: 2.1729519409140856\n"
          ]
        }
      ],
      "source": [
        "user_id = 1\n",
        "ratings = cb_2.item_based_predict(idx, user_id)\n",
        "print(f\"사용자 {user_id}가 '{item_id}'에 부여할 예측 평점: {ratings}\")"
      ]
    },
    {
      "cell_type": "code",
      "execution_count": 23,
      "metadata": {},
      "outputs": [],
      "source": [
        "k = 2 # 위의결과로 설정됨\n",
        "kmeans = MiniBatchKMeans(n_clusters=k, random_state=42, batch_size=500)\n",
        "user_clusters = kmeans.fit_predict(user_matrix)\n",
        "unique_clusters = np.unique(user_clusters)\n",
        "\n",
        "user_id = 0  # 예: 첫 번째 사용자\n",
        "cluster= user_clusters[0]\n",
        "\n",
        "top_k = 10\n",
        "\n",
        "cluster_indices = np.where(user_clusters == cluster)[0]  # 해당 클러스터 사용자 인덱스\n",
        "cluster_matrix = user_matrix.iloc[cluster_indices]\n",
        "optimal_k = 100\n",
        "cb_= cb(cluster_matrix, optimal_k)\n",
        "similarities = cb_.calculate_pearson_similarity(user_id)"
      ]
    },
    {
      "cell_type": "code",
      "execution_count": 24,
      "metadata": {},
      "outputs": [
        {
          "name": "stdout",
          "output_type": "stream",
          "text": [
            "사용자 1가 '장화, 홍련'에 부여할 예측 평점: 2.3333333333333335\n"
          ]
        }
      ],
      "source": [
        "item_id = \"장화, 홍련\"\n",
        "user_id = 1\n",
        "predicted_rating = cb_.user_based_predict(user_id, item_id, similarities)\n",
        "print(f\"사용자 {user_id}가 '{item_id}'에 부여할 예측 평점: {predicted_rating}\")"
      ]
    },
    {
      "cell_type": "code",
      "execution_count": null,
      "metadata": {},
      "outputs": [],
      "source": []
    }
  ],
  "metadata": {
    "colab": {
      "machine_shape": "hm",
      "provenance": []
    },
    "kernelspec": {
      "display_name": "base",
      "language": "python",
      "name": "python3"
    },
    "language_info": {
      "codemirror_mode": {
        "name": "ipython",
        "version": 3
      },
      "file_extension": ".py",
      "mimetype": "text/x-python",
      "name": "python",
      "nbconvert_exporter": "python",
      "pygments_lexer": "ipython3",
      "version": "3.12.2"
    }
  },
  "nbformat": 4,
  "nbformat_minor": 0
}
