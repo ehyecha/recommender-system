{
 "cells": [
  {
   "cell_type": "code",
   "execution_count": 91,
   "metadata": {},
   "outputs": [],
   "source": [
    "import numpy as np\n",
    "import pandas as pd\n",
    "import torch\n",
    "import torch.nn as nn\n",
    "import torch.optim as optim\n"
   ]
  },
  {
   "cell_type": "code",
   "execution_count": 55,
   "metadata": {},
   "outputs": [
    {
     "name": "stderr",
     "output_type": "stream",
     "text": [
      "/var/folders/s7/_6xph2kx7zj1t3c3tmb0gk5c0000gn/T/ipykernel_6193/983951038.py:6: DtypeWarning: Columns (10) have mixed types. Specify dtype option on import or set low_memory=False.\n",
      "  movies_metadata = pd.read_csv('./dataset/movies_metadata.csv')\n"
     ]
    }
   ],
   "source": [
    "movie_ratings = pd.read_csv('./dataset/ratings.csv')\n",
    "movie_ratings_small = pd.read_csv('./dataset/ratings_small.csv')\n",
    "credits = pd.read_csv('./dataset/credits.csv')\n",
    "links = pd.read_csv('./dataset/links.csv')\n",
    "links_small = pd.read_csv('./dataset/links_small.csv')\n",
    "movies_metadata = pd.read_csv('./dataset/movies_metadata.csv')\n",
    "keywords = pd.read_csv('./dataset/keywords.csv')"
   ]
  },
  {
   "cell_type": "code",
   "execution_count": 56,
   "metadata": {},
   "outputs": [
    {
     "data": {
      "text/plain": [
       "userId       0\n",
       "movieId      0\n",
       "rating       0\n",
       "timestamp    0\n",
       "dtype: int64"
      ]
     },
     "execution_count": 56,
     "metadata": {},
     "output_type": "execute_result"
    }
   ],
   "source": [
    "movie_ratings.isnull().sum()\n",
    "#movies_metadata.head()"
   ]
  },
  {
   "cell_type": "code",
   "execution_count": 57,
   "metadata": {},
   "outputs": [],
   "source": [
    "movies_metadata.drop_duplicates(subset='id',keep='first', inplace=True)"
   ]
  },
  {
   "cell_type": "code",
   "execution_count": 58,
   "metadata": {},
   "outputs": [],
   "source": [
    "movies_metadata = movies_metadata[movies_metadata['id'].str.isdigit()] \n",
    "movies_metadata['id'] = movies_metadata['id'].astype('int64')"
   ]
  },
  {
   "cell_type": "code",
   "execution_count": 74,
   "metadata": {},
   "outputs": [],
   "source": [
    "\n",
    "#movies_metadata = movies_metadata[movies_metadata['id'].str.isdigit()] \n",
    "movies_metadata['userId'] = movies_metadata['userId'].astype('int64')"
   ]
  },
  {
   "cell_type": "code",
   "execution_count": 60,
   "metadata": {},
   "outputs": [],
   "source": [
    "movies_metadata = movies_metadata.merge(movie_ratings, left_on='id', right_on='movieId', how='left')"
   ]
  },
  {
   "cell_type": "code",
   "execution_count": 66,
   "metadata": {},
   "outputs": [],
   "source": [
    "movies_metadata.dropna(subset='userId', inplace= True)\n",
    "movies_metadata.drop(columns=['movieId'], inplace=True)"
   ]
  },
  {
   "cell_type": "code",
   "execution_count": 67,
   "metadata": {},
   "outputs": [
    {
     "data": {
      "text/html": [
       "<div>\n",
       "<style scoped>\n",
       "    .dataframe tbody tr th:only-of-type {\n",
       "        vertical-align: middle;\n",
       "    }\n",
       "\n",
       "    .dataframe tbody tr th {\n",
       "        vertical-align: top;\n",
       "    }\n",
       "\n",
       "    .dataframe thead th {\n",
       "        text-align: right;\n",
       "    }\n",
       "</style>\n",
       "<table border=\"1\" class=\"dataframe\">\n",
       "  <thead>\n",
       "    <tr style=\"text-align: right;\">\n",
       "      <th></th>\n",
       "      <th>id</th>\n",
       "      <th>userId</th>\n",
       "      <th>rating</th>\n",
       "    </tr>\n",
       "  </thead>\n",
       "  <tbody>\n",
       "    <tr>\n",
       "      <th>0</th>\n",
       "      <td>862</td>\n",
       "      <td>1923.0</td>\n",
       "      <td>3.0</td>\n",
       "    </tr>\n",
       "    <tr>\n",
       "      <th>1</th>\n",
       "      <td>862</td>\n",
       "      <td>2103.0</td>\n",
       "      <td>5.0</td>\n",
       "    </tr>\n",
       "    <tr>\n",
       "      <th>2</th>\n",
       "      <td>862</td>\n",
       "      <td>5380.0</td>\n",
       "      <td>1.0</td>\n",
       "    </tr>\n",
       "    <tr>\n",
       "      <th>3</th>\n",
       "      <td>862</td>\n",
       "      <td>6177.0</td>\n",
       "      <td>4.0</td>\n",
       "    </tr>\n",
       "    <tr>\n",
       "      <th>4</th>\n",
       "      <td>862</td>\n",
       "      <td>6525.0</td>\n",
       "      <td>4.0</td>\n",
       "    </tr>\n",
       "    <tr>\n",
       "      <th>...</th>\n",
       "      <td>...</td>\n",
       "      <td>...</td>\n",
       "      <td>...</td>\n",
       "    </tr>\n",
       "    <tr>\n",
       "      <th>11474428</th>\n",
       "      <td>111109</td>\n",
       "      <td>33940.0</td>\n",
       "      <td>2.5</td>\n",
       "    </tr>\n",
       "    <tr>\n",
       "      <th>11474429</th>\n",
       "      <td>111109</td>\n",
       "      <td>172224.0</td>\n",
       "      <td>3.0</td>\n",
       "    </tr>\n",
       "    <tr>\n",
       "      <th>11474430</th>\n",
       "      <td>111109</td>\n",
       "      <td>210792.0</td>\n",
       "      <td>3.0</td>\n",
       "    </tr>\n",
       "    <tr>\n",
       "      <th>11474431</th>\n",
       "      <td>111109</td>\n",
       "      <td>225396.0</td>\n",
       "      <td>3.5</td>\n",
       "    </tr>\n",
       "    <tr>\n",
       "      <th>11474432</th>\n",
       "      <td>111109</td>\n",
       "      <td>269593.0</td>\n",
       "      <td>0.5</td>\n",
       "    </tr>\n",
       "  </tbody>\n",
       "</table>\n",
       "<p>11436568 rows × 3 columns</p>\n",
       "</div>"
      ],
      "text/plain": [
       "              id    userId  rating\n",
       "0            862    1923.0     3.0\n",
       "1            862    2103.0     5.0\n",
       "2            862    5380.0     1.0\n",
       "3            862    6177.0     4.0\n",
       "4            862    6525.0     4.0\n",
       "...          ...       ...     ...\n",
       "11474428  111109   33940.0     2.5\n",
       "11474429  111109  172224.0     3.0\n",
       "11474430  111109  210792.0     3.0\n",
       "11474431  111109  225396.0     3.5\n",
       "11474432  111109  269593.0     0.5\n",
       "\n",
       "[11436568 rows x 3 columns]"
      ]
     },
     "execution_count": 67,
     "metadata": {},
     "output_type": "execute_result"
    }
   ],
   "source": [
    "movies_metadata[['id','userId','rating']]"
   ]
  },
  {
   "cell_type": "code",
   "execution_count": 75,
   "metadata": {},
   "outputs": [
    {
     "data": {
      "text/plain": [
       "dtype('int64')"
      ]
     },
     "execution_count": 75,
     "metadata": {},
     "output_type": "execute_result"
    }
   ],
   "source": [
    "movies_metadata['userId'].dtype"
   ]
  },
  {
   "cell_type": "code",
   "execution_count": 76,
   "metadata": {},
   "outputs": [],
   "source": [
    "# Neural MF Model\n",
    "class NeuralMF(nn.Module):\n",
    "    def __init__(self, num_users, num_items, latent_dim):\n",
    "        super(NeuralMF, self).__init__()\n",
    "\n",
    "        # Embeddings\n",
    "        self.user_embedding = nn.Embedding(num_users, latent_dim)\n",
    "        self.item_embedding = nn.Embedding(num_items, latent_dim)\n",
    "\n",
    "        # Neural network layers\n",
    "        self.fc1 = nn.Linear(latent_dim * 2, 128)\n",
    "        self.fc2 = nn.Linear(128, 64)\n",
    "        self.fc3 = nn.Linear(64, 1)\n",
    "\n",
    "        self.activation = nn.ReLU()\n",
    "\n",
    "    def forward(self, user, item):\n",
    "        user_embed = self.user_embedding(user)\n",
    "        item_embed = self.item_embedding(item)\n",
    "\n",
    "        # Concatenate user and item embeddings\n",
    "        x = torch.cat([user_embed, item_embed], dim=-1)\n",
    "\n",
    "        # Feed through fully connected layers\n",
    "        x = self.activation(self.fc1(x))\n",
    "        x = self.activation(self.fc2(x))\n",
    "        x = self.fc3(x)\n",
    "        return x.squeeze()"
   ]
  },
  {
   "cell_type": "code",
   "execution_count": 114,
   "metadata": {},
   "outputs": [
    {
     "name": "stdout",
     "output_type": "stream",
     "text": [
      "Epoch [10/100], Loss: 10.2024\n",
      "Epoch [20/100], Loss: 5.6569\n",
      "Epoch [30/100], Loss: 2.1127\n",
      "Epoch [40/100], Loss: 1.6438\n",
      "Epoch [50/100], Loss: 1.5607\n",
      "Epoch [60/100], Loss: 1.3991\n",
      "Epoch [70/100], Loss: 1.3909\n",
      "Epoch [80/100], Loss: 1.3451\n",
      "Epoch [90/100], Loss: 1.3239\n",
      "Epoch [100/100], Loss: 1.2994\n",
      "Predicted Ratings: tensor([3.8541, 3.8256, 4.0133,  ..., 3.5408, 3.1712, 2.3865],\n",
      "       grad_fn=<SqueezeBackward0>)\n"
     ]
    }
   ],
   "source": [
    "latent_dim = 16\n",
    "batch_size = 4\n",
    "epochs = 10\n",
    "learning_rate = 0.001\n",
    "\n",
    "\n",
    "movies_metadata['user_idx'] = movies_metadata['userId'].astype('category').cat.codes\n",
    "movies_metadata['item_idx'] = movies_metadata['id'].astype('category').cat.codes\n",
    "\n",
    "# 유저 및 아이템 텐서, 평점 텐서\n",
    "user_ids = torch.tensor(movies_metadata['user_idx'].values, dtype=torch.long)\n",
    "item_ids = torch.tensor(movies_metadata['item_idx'].values, dtype=torch.long)\n",
    "ratings = torch.tensor(movies_metadata['rating'].values, dtype=torch.float32)\n",
    "\n",
    "#user_ids\n",
    "num_users = movies_metadata['user_idx'].nunique()\n",
    "num_items = movies_metadata['item_idx'].nunique()\n",
    "model = NeuralMF(num_users, num_items, latent_dim)\n",
    "criterion = nn.MSELoss()\n",
    "optimizer = optim.Adam(model.parameters(), lr=learning_rate)\n",
    "\n",
    "\n",
    "num_epochs = 20\n",
    "for epoch in range(num_epochs):\n",
    "    model.train()\n",
    "    \n",
    "    # 예측값 계산\n",
    "    predicted_ratings = model(user_ids, item_ids)\n",
    "    \n",
    "    # 손실 계산\n",
    "    loss = criterion(predicted_ratings, ratings)\n",
    "    \n",
    "    # 역전파 및 최적화\n",
    "    optimizer.zero_grad()\n",
    "    loss.backward()\n",
    "    optimizer.step()\n",
    "    \n",
    "    # 출력\n",
    "    if (epoch + 1) % 10 == 0:\n",
    "        print(f'Epoch [{epoch+1}/{num_epochs}], Loss: {loss.item():.4f}')\n",
    "\n",
    "# 예측된 평점 출력\n",
    "model.eval()\n",
    "predicted_ratings = model(user_ids, item_ids)\n",
    "print(\"Predicted Ratings:\", predicted_ratings)\n",
    "\n"
   ]
  },
  {
   "cell_type": "code",
   "execution_count": 113,
   "metadata": {},
   "outputs": [
    {
     "data": {
      "text/plain": [
       "tensor([  1882,   2061,   5284,  ..., 206928, 221262, 264653])"
      ]
     },
     "execution_count": 113,
     "metadata": {},
     "output_type": "execute_result"
    }
   ],
   "source": [
    "user_ids"
   ]
  },
  {
   "cell_type": "code",
   "execution_count": 106,
   "metadata": {},
   "outputs": [
    {
     "name": "stdout",
     "output_type": "stream",
     "text": [
      "user ids tensor([0, 1, 2, 0, 1])\n"
     ]
    }
   ],
   "source": [
    "import torch\n",
    "import torch.nn as nn\n",
    "import torch.optim as optim\n",
    "import pandas as pd\n",
    "\n",
    "# 예제 데이터셋 (유저 ID, 아이템 ID, 실제 평점)\n",
    "data = pd.DataFrame({\n",
    "    'user_id': ['u1', 'u2', 'u3', 'u1', 'u2'],\n",
    "    'item_id': ['i1', 'i2', 'i3', 'i1', 'i3'],\n",
    "    'rating': [5.0, 4.0, 3.0, 4.5, 2.0]\n",
    "})\n",
    "\n",
    "# 유저 및 아이템 ID를 정수 인덱스로 변환\n",
    "data['user_idx'] = data['user_id'].astype('category').cat.codes\n",
    "data['item_idx'] = data['item_id'].astype('category').cat.codes\n",
    "\n",
    "# 유저 및 아이템 텐서, 평점 텐서\n",
    "user_ids = torch.tensor(data['user_idx'].values, dtype=torch.long)\n",
    "item_ids = torch.tensor(data['item_idx'].values, dtype=torch.long)\n",
    "ratings = torch.tensor(data['rating'].values, dtype=torch.float32)\n",
    "\n",
    "print(\"user ids\", user_ids)\n",
    "# 유저 및 아이템 임베딩 레이어 정의\n",
    "# num_users = len(torch.unique(user_ids))\n",
    "# num_items = len(torch.unique(item_ids))\n",
    "# embedding_dim = 8\n",
    "\n",
    "# user_embedding = nn.Embedding(num_users, embedding_dim)\n",
    "# item_embedding = nn.Embedding(num_items, embedding_dim)\n",
    "\n",
    "# # 예측 모델 정의\n",
    "# class MatrixFactorization(nn.Module):\n",
    "#     def __init__(self, num_users, num_items, embedding_dim):\n",
    "#         super(MatrixFactorization, self).__init__()\n",
    "#         self.user_embedding = nn.Embedding(num_users, embedding_dim)\n",
    "#         self.item_embedding = nn.Embedding(num_items, embedding_dim)\n",
    "    \n",
    "#     def forward(self, user_ids, item_ids):\n",
    "#         user_vecs = self.user_embedding(user_ids)\n",
    "#         item_vecs = self.item_embedding(item_ids)\n",
    "#         return (user_vecs * item_vecs).sum(dim=1)  # 유저와 아이템 벡터의 내적을 예측값으로 사용\n",
    "\n",
    "# # 모델 초기화\n",
    "# model = MatrixFactorization(num_users, num_items, embedding_dim)\n",
    "\n",
    "# # 손실 함수 (MSE) 및 옵티마이저 (Adam)\n",
    "# criterion = nn.MSELoss()\n",
    "# optimizer = optim.Adam(model.parameters(), lr=0.01)\n",
    "\n",
    "# # 훈련 과정\n",
    "# num_epochs = 100\n",
    "# for epoch in range(num_epochs):\n",
    "#     model.train()\n",
    "    \n",
    "#     # 예측값 계산\n",
    "#     predicted_ratings = model(user_ids, item_ids)\n",
    "    \n",
    "#     # 손실 계산\n",
    "#     loss = criterion(predicted_ratings, ratings)\n",
    "    \n",
    "#     # 역전파 및 최적화\n",
    "#     optimizer.zero_grad()\n",
    "#     loss.backward()\n",
    "#     optimizer.step()\n",
    "    \n",
    "#     # 출력\n",
    "#     if (epoch + 1) % 10 == 0:\n",
    "#         print(f'Epoch [{epoch+1}/{num_epochs}], Loss: {loss.item():.4f}')\n",
    "\n",
    "# # 예측된 평점 출력\n",
    "# model.eval()\n",
    "# predicted_ratings = model(user_ids, item_ids)\n",
    "# print(\"Predicted Ratings:\", predicted_ratings)\n"
   ]
  },
  {
   "cell_type": "code",
   "execution_count": 99,
   "metadata": {},
   "outputs": [
    {
     "data": {
      "text/plain": [
       "(tensor([[ 0.9074,  0.6172, -1.9166,  ...,  2.1840,  1.1550, -1.9553],\n",
       "         [-0.0825, -1.0231, -1.1063,  ...,  0.2507,  0.7501,  1.2624],\n",
       "         [ 0.1195,  0.4591,  0.3297,  ...,  0.7087, -1.7993,  0.5238],\n",
       "         ...,\n",
       "         [-0.3801, -0.5860, -0.9542,  ...,  0.1646, -0.6535, -2.5811],\n",
       "         [ 0.2262, -0.5687,  0.2600,  ..., -0.3639, -2.4057, -1.4420],\n",
       "         [-0.4908,  1.6719,  0.9135,  ..., -0.0377,  1.4994, -2.1600]],\n",
       "        grad_fn=<EmbeddingBackward0>),\n",
       " tensor([[ 0.8322, -1.5359,  0.1454,  ..., -0.8599, -1.5215,  0.3334],\n",
       "         [ 0.8322, -1.5359,  0.1454,  ..., -0.8599, -1.5215,  0.3334],\n",
       "         [ 0.8322, -1.5359,  0.1454,  ..., -0.8599, -1.5215,  0.3334],\n",
       "         ...,\n",
       "         [-1.1115, -0.8108,  0.3024,  ..., -0.5019,  1.7716,  0.7275],\n",
       "         [-1.1115, -0.8108,  0.3024,  ..., -0.5019,  1.7716,  0.7275],\n",
       "         [-1.1115, -0.8108,  0.3024,  ..., -0.5019,  1.7716,  0.7275]],\n",
       "        grad_fn=<EmbeddingBackward0>))"
      ]
     },
     "execution_count": 99,
     "metadata": {},
     "output_type": "execute_result"
    }
   ],
   "source": [
    "model = NeuralMF()"
   ]
  }
 ],
 "metadata": {
  "kernelspec": {
   "display_name": "base",
   "language": "python",
   "name": "python3"
  },
  "language_info": {
   "codemirror_mode": {
    "name": "ipython",
    "version": 3
   },
   "file_extension": ".py",
   "mimetype": "text/x-python",
   "name": "python",
   "nbconvert_exporter": "python",
   "pygments_lexer": "ipython3",
   "version": "3.12.2"
  }
 },
 "nbformat": 4,
 "nbformat_minor": 2
}
